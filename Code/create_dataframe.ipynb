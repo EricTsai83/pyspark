{
 "cells": [
  {
   "cell_type": "code",
   "execution_count": 1,
   "id": "dbde53ed-1940-44c5-86c7-cfe0ec9a328d",
   "metadata": {
    "execution": {
     "iopub.execute_input": "2022-05-21T16:51:27.863084Z",
     "iopub.status.busy": "2022-05-21T16:51:27.862082Z",
     "iopub.status.idle": "2022-05-21T16:51:34.175883Z",
     "shell.execute_reply": "2022-05-21T16:51:34.173887Z",
     "shell.execute_reply.started": "2022-05-21T16:51:27.862082Z"
    },
    "tags": []
   },
   "outputs": [],
   "source": [
    "import pandas as pd"
   ]
  },
  {
   "cell_type": "code",
   "execution_count": 2,
   "id": "61ee3735-81bc-49e4-8d71-fc3824e65a3c",
   "metadata": {
    "execution": {
     "iopub.execute_input": "2022-05-21T16:51:34.179883Z",
     "iopub.status.busy": "2022-05-21T16:51:34.178886Z",
     "iopub.status.idle": "2022-05-21T16:51:34.206878Z",
     "shell.execute_reply": "2022-05-21T16:51:34.204879Z",
     "shell.execute_reply.started": "2022-05-21T16:51:34.179883Z"
    },
    "tags": []
   },
   "outputs": [],
   "source": [
    "# create dataframe\n",
    "data = [{'name': 'Krish', 'age': 31, 'experience': 10, 'salary':30000}, \n",
    "        {'name': 'Sudhanshu', 'age': 30, 'experience': 8, 'salary':25000},\n",
    "        {'name': 'Sunny', 'age': 29, 'experience': 4, 'salary':20000},\n",
    "        {'name': 'Paul', 'age': 24, 'experience': 3, 'salary':20000},\n",
    "        {'name': 'Harsha', 'age': 21, 'experience': 1, 'salary':15000},\n",
    "        {'name': 'Shubham', 'age': 23, 'experience': 2, 'salary':18000},\n",
    "        {'name': 'Maheesh', 'age': None, 'experience': None, 'salary':40000},\n",
    "        {'name': None, 'age': 34, 'experience': 10, 'salary':38000},\n",
    "        {'name': None, 'age': 36, 'experience': None, 'salary': None},\n",
    "       ]"
   ]
  },
  {
   "cell_type": "code",
   "execution_count": 3,
   "id": "700675f0-cb85-4830-890c-8f18a5cc687a",
   "metadata": {
    "execution": {
     "iopub.execute_input": "2022-05-21T16:51:34.210878Z",
     "iopub.status.busy": "2022-05-21T16:51:34.209878Z",
     "iopub.status.idle": "2022-05-21T16:51:34.300863Z",
     "shell.execute_reply": "2022-05-21T16:51:34.297863Z",
     "shell.execute_reply.started": "2022-05-21T16:51:34.210878Z"
    }
   },
   "outputs": [],
   "source": [
    "df = pd.DataFrame(data)"
   ]
  },
  {
   "cell_type": "code",
   "execution_count": 4,
   "id": "4594705a-f175-400b-9691-384c737b7b0d",
   "metadata": {
    "execution": {
     "iopub.execute_input": "2022-05-21T16:51:34.307865Z",
     "iopub.status.busy": "2022-05-21T16:51:34.306862Z",
     "iopub.status.idle": "2022-05-21T16:51:34.468837Z",
     "shell.execute_reply": "2022-05-21T16:51:34.467837Z",
     "shell.execute_reply.started": "2022-05-21T16:51:34.307865Z"
    }
   },
   "outputs": [
    {
     "data": {
      "text/html": [
       "<div>\n",
       "<style scoped>\n",
       "    .dataframe tbody tr th:only-of-type {\n",
       "        vertical-align: middle;\n",
       "    }\n",
       "\n",
       "    .dataframe tbody tr th {\n",
       "        vertical-align: top;\n",
       "    }\n",
       "\n",
       "    .dataframe thead th {\n",
       "        text-align: right;\n",
       "    }\n",
       "</style>\n",
       "<table border=\"1\" class=\"dataframe\">\n",
       "  <thead>\n",
       "    <tr style=\"text-align: right;\">\n",
       "      <th></th>\n",
       "      <th>name</th>\n",
       "      <th>age</th>\n",
       "      <th>experience</th>\n",
       "      <th>salary</th>\n",
       "    </tr>\n",
       "  </thead>\n",
       "  <tbody>\n",
       "    <tr>\n",
       "      <th>0</th>\n",
       "      <td>Krish</td>\n",
       "      <td>31.0</td>\n",
       "      <td>10.0</td>\n",
       "      <td>30000.0</td>\n",
       "    </tr>\n",
       "    <tr>\n",
       "      <th>1</th>\n",
       "      <td>Sudhanshu</td>\n",
       "      <td>30.0</td>\n",
       "      <td>8.0</td>\n",
       "      <td>25000.0</td>\n",
       "    </tr>\n",
       "    <tr>\n",
       "      <th>2</th>\n",
       "      <td>Sunny</td>\n",
       "      <td>29.0</td>\n",
       "      <td>4.0</td>\n",
       "      <td>20000.0</td>\n",
       "    </tr>\n",
       "    <tr>\n",
       "      <th>3</th>\n",
       "      <td>Paul</td>\n",
       "      <td>24.0</td>\n",
       "      <td>3.0</td>\n",
       "      <td>20000.0</td>\n",
       "    </tr>\n",
       "    <tr>\n",
       "      <th>4</th>\n",
       "      <td>Harsha</td>\n",
       "      <td>21.0</td>\n",
       "      <td>1.0</td>\n",
       "      <td>15000.0</td>\n",
       "    </tr>\n",
       "    <tr>\n",
       "      <th>5</th>\n",
       "      <td>Shubham</td>\n",
       "      <td>23.0</td>\n",
       "      <td>2.0</td>\n",
       "      <td>18000.0</td>\n",
       "    </tr>\n",
       "    <tr>\n",
       "      <th>6</th>\n",
       "      <td>Maheesh</td>\n",
       "      <td>NaN</td>\n",
       "      <td>NaN</td>\n",
       "      <td>40000.0</td>\n",
       "    </tr>\n",
       "    <tr>\n",
       "      <th>7</th>\n",
       "      <td>None</td>\n",
       "      <td>34.0</td>\n",
       "      <td>10.0</td>\n",
       "      <td>38000.0</td>\n",
       "    </tr>\n",
       "    <tr>\n",
       "      <th>8</th>\n",
       "      <td>None</td>\n",
       "      <td>36.0</td>\n",
       "      <td>NaN</td>\n",
       "      <td>NaN</td>\n",
       "    </tr>\n",
       "  </tbody>\n",
       "</table>\n",
       "</div>"
      ],
      "text/plain": [
       "        name   age  experience   salary\n",
       "0      Krish  31.0        10.0  30000.0\n",
       "1  Sudhanshu  30.0         8.0  25000.0\n",
       "2      Sunny  29.0         4.0  20000.0\n",
       "3       Paul  24.0         3.0  20000.0\n",
       "4     Harsha  21.0         1.0  15000.0\n",
       "5    Shubham  23.0         2.0  18000.0\n",
       "6    Maheesh   NaN         NaN  40000.0\n",
       "7       None  34.0        10.0  38000.0\n",
       "8       None  36.0         NaN      NaN"
      ]
     },
     "execution_count": 4,
     "metadata": {},
     "output_type": "execute_result"
    }
   ],
   "source": [
    "df"
   ]
  },
  {
   "cell_type": "code",
   "execution_count": 5,
   "id": "9f55d8b1-718c-4d73-a7a3-9f69ddcb437e",
   "metadata": {
    "execution": {
     "iopub.execute_input": "2022-05-21T16:51:34.471837Z",
     "iopub.status.busy": "2022-05-21T16:51:34.470837Z",
     "iopub.status.idle": "2022-05-21T16:51:34.515830Z",
     "shell.execute_reply": "2022-05-21T16:51:34.514831Z",
     "shell.execute_reply.started": "2022-05-21T16:51:34.471837Z"
    },
    "tags": []
   },
   "outputs": [],
   "source": [
    "df.to_csv('../Data/test.csv', index= False)"
   ]
  },
  {
   "cell_type": "code",
   "execution_count": 6,
   "id": "9162de78-f97f-480c-a4a5-a18726d6e8aa",
   "metadata": {
    "execution": {
     "iopub.execute_input": "2022-05-21T16:51:34.518830Z",
     "iopub.status.busy": "2022-05-21T16:51:34.517830Z",
     "iopub.status.idle": "2022-05-21T16:51:34.532827Z",
     "shell.execute_reply": "2022-05-21T16:51:34.530828Z",
     "shell.execute_reply.started": "2022-05-21T16:51:34.518830Z"
    }
   },
   "outputs": [],
   "source": [
    "# create dataframe\n",
    "data = [{'name': 'Krish', 'department': 'Data Science', 'salary':10000}, \n",
    "        {'name': 'Krish', 'department': 'IOT', 'salary':5000},\n",
    "        {'name': 'Mahesh', 'department': 'IOT', 'salary':4000},\n",
    "        {'name': 'Krish', 'department': 'IOT', 'salary':4000},\n",
    "        {'name': 'Mahesh', 'department': 'IOT', 'salary':3000},\n",
    "        {'name': 'Sudhanshu', 'department': 'IOT', 'salary':20000},\n",
    "        {'name': 'Sudhanshu', 'department': 'IOT', 'salary':10000},\n",
    "        {'name': 'Sudhanshu', 'department': 'IOT', 'salary':5000},\n",
    "        {'name': 'Sunny', 'department': 'IOT', 'salary':10000},\n",
    "        {'name': 'Sunny', 'department': 'IOT', 'salary':2000},\n",
    "       ]"
   ]
  },
  {
   "cell_type": "code",
   "execution_count": 7,
   "id": "73a4e6a3-e174-489c-9bff-f597b1ed762c",
   "metadata": {
    "execution": {
     "iopub.execute_input": "2022-05-21T16:51:34.537826Z",
     "iopub.status.busy": "2022-05-21T16:51:34.536828Z",
     "iopub.status.idle": "2022-05-21T16:51:34.563826Z",
     "shell.execute_reply": "2022-05-21T16:51:34.562824Z",
     "shell.execute_reply.started": "2022-05-21T16:51:34.537826Z"
    }
   },
   "outputs": [],
   "source": [
    "df = pd.DataFrame(data)"
   ]
  },
  {
   "cell_type": "code",
   "execution_count": 8,
   "id": "b711cda3-0cd3-47ad-864f-d3f1563d12af",
   "metadata": {
    "execution": {
     "iopub.execute_input": "2022-05-21T16:51:34.567821Z",
     "iopub.status.busy": "2022-05-21T16:51:34.566823Z",
     "iopub.status.idle": "2022-05-21T16:51:34.595817Z",
     "shell.execute_reply": "2022-05-21T16:51:34.594819Z",
     "shell.execute_reply.started": "2022-05-21T16:51:34.566823Z"
    }
   },
   "outputs": [
    {
     "data": {
      "text/html": [
       "<div>\n",
       "<style scoped>\n",
       "    .dataframe tbody tr th:only-of-type {\n",
       "        vertical-align: middle;\n",
       "    }\n",
       "\n",
       "    .dataframe tbody tr th {\n",
       "        vertical-align: top;\n",
       "    }\n",
       "\n",
       "    .dataframe thead th {\n",
       "        text-align: right;\n",
       "    }\n",
       "</style>\n",
       "<table border=\"1\" class=\"dataframe\">\n",
       "  <thead>\n",
       "    <tr style=\"text-align: right;\">\n",
       "      <th></th>\n",
       "      <th>name</th>\n",
       "      <th>department</th>\n",
       "      <th>salary</th>\n",
       "    </tr>\n",
       "  </thead>\n",
       "  <tbody>\n",
       "    <tr>\n",
       "      <th>0</th>\n",
       "      <td>Krish</td>\n",
       "      <td>Data Science</td>\n",
       "      <td>10000</td>\n",
       "    </tr>\n",
       "    <tr>\n",
       "      <th>1</th>\n",
       "      <td>Krish</td>\n",
       "      <td>IOT</td>\n",
       "      <td>5000</td>\n",
       "    </tr>\n",
       "    <tr>\n",
       "      <th>2</th>\n",
       "      <td>Mahesh</td>\n",
       "      <td>IOT</td>\n",
       "      <td>4000</td>\n",
       "    </tr>\n",
       "    <tr>\n",
       "      <th>3</th>\n",
       "      <td>Krish</td>\n",
       "      <td>IOT</td>\n",
       "      <td>4000</td>\n",
       "    </tr>\n",
       "    <tr>\n",
       "      <th>4</th>\n",
       "      <td>Mahesh</td>\n",
       "      <td>IOT</td>\n",
       "      <td>3000</td>\n",
       "    </tr>\n",
       "    <tr>\n",
       "      <th>5</th>\n",
       "      <td>Sudhanshu</td>\n",
       "      <td>IOT</td>\n",
       "      <td>20000</td>\n",
       "    </tr>\n",
       "    <tr>\n",
       "      <th>6</th>\n",
       "      <td>Sudhanshu</td>\n",
       "      <td>IOT</td>\n",
       "      <td>10000</td>\n",
       "    </tr>\n",
       "    <tr>\n",
       "      <th>7</th>\n",
       "      <td>Sudhanshu</td>\n",
       "      <td>IOT</td>\n",
       "      <td>5000</td>\n",
       "    </tr>\n",
       "    <tr>\n",
       "      <th>8</th>\n",
       "      <td>Sunny</td>\n",
       "      <td>IOT</td>\n",
       "      <td>10000</td>\n",
       "    </tr>\n",
       "    <tr>\n",
       "      <th>9</th>\n",
       "      <td>Sunny</td>\n",
       "      <td>IOT</td>\n",
       "      <td>2000</td>\n",
       "    </tr>\n",
       "  </tbody>\n",
       "</table>\n",
       "</div>"
      ],
      "text/plain": [
       "        name    department  salary\n",
       "0      Krish  Data Science   10000\n",
       "1      Krish           IOT    5000\n",
       "2     Mahesh           IOT    4000\n",
       "3      Krish           IOT    4000\n",
       "4     Mahesh           IOT    3000\n",
       "5  Sudhanshu           IOT   20000\n",
       "6  Sudhanshu           IOT   10000\n",
       "7  Sudhanshu           IOT    5000\n",
       "8      Sunny           IOT   10000\n",
       "9      Sunny           IOT    2000"
      ]
     },
     "execution_count": 8,
     "metadata": {},
     "output_type": "execute_result"
    }
   ],
   "source": [
    "df"
   ]
  },
  {
   "cell_type": "code",
   "execution_count": 9,
   "id": "e645c2c1-defd-4c37-94dc-6138b2818cf3",
   "metadata": {
    "execution": {
     "iopub.execute_input": "2022-05-21T16:51:34.598820Z",
     "iopub.status.busy": "2022-05-21T16:51:34.597820Z",
     "iopub.status.idle": "2022-05-21T16:51:34.612817Z",
     "shell.execute_reply": "2022-05-21T16:51:34.610814Z",
     "shell.execute_reply.started": "2022-05-21T16:51:34.598820Z"
    },
    "tags": []
   },
   "outputs": [],
   "source": [
    "df.to_csv('../Data/test2.csv', index= False)"
   ]
  }
 ],
 "metadata": {
  "kernelspec": {
   "display_name": "Python 3",
   "language": "python",
   "name": "python3"
  },
  "language_info": {
   "codemirror_mode": {
    "name": "ipython",
    "version": 3
   },
   "file_extension": ".py",
   "mimetype": "text/x-python",
   "name": "python",
   "nbconvert_exporter": "python",
   "pygments_lexer": "ipython3",
   "version": "3.7.10"
  }
 },
 "nbformat": 4,
 "nbformat_minor": 5
}
