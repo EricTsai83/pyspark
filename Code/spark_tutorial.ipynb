{
 "cells": [
  {
   "cell_type": "markdown",
   "id": "ad459cb9",
   "metadata": {},
   "source": [
    "# PySpark Documentation"
   ]
  },
  {
   "cell_type": "markdown",
   "id": "ddd4069a",
   "metadata": {},
   "source": [
    "## Table of contents"
   ]
  },
  {
   "cell_type": "markdown",
   "id": "88c9e1f3",
   "metadata": {},
   "source": [
    "* [Basic packages](#Basic-packages)\n",
    "* [Create spark session](#Create-spark-session)\n",
    "* [Read CSV file](#Read-CSV-file)\n",
    "* [Checking data info](#Checking-data-info)\n",
    "* [Checking data type of column](#Checking-data-type-of-column)\n",
    "* [Get data by row or column](#Get-data-by-row-or-column)\n",
    "* [Data description](#Data-description)\n",
    "* [Add columns in data frame](#Add-columns-in-data-frame)\n",
    "* [Drop the columns](#Drop-the-columns)\n",
    "* [Rename the column](#Rename-the-column)\n",
    "* [Drop na by row](#Drop-na-by-row)\n",
    "* [Fill the missing values](#Fill-the-missing-values)\n",
    "* [Imputer](#Imputer)\n",
    "* [GroupBy and Aggregate Function](#GroupBy-and-Aggregate-Function)\n",
    "* [Pyspark ML](#Pyspark-ML)\n",
    "* [Handling categorical feature](#Handling-categorical-feature)"
   ]
  },
  {
   "cell_type": "markdown",
   "id": "3f20222e",
   "metadata": {},
   "source": [
    "## Basic-packages\n",
    "[back to top](#PySpark-Documentation)"
   ]
  },
  {
   "cell_type": "code",
   "execution_count": 1,
   "id": "0375eb7c",
   "metadata": {
    "execution": {
     "iopub.execute_input": "2022-05-21T19:13:17.929463Z",
     "iopub.status.busy": "2022-05-21T19:13:17.928463Z",
     "iopub.status.idle": "2022-05-21T19:13:26.450348Z",
     "shell.execute_reply": "2022-05-21T19:13:26.441346Z",
     "shell.execute_reply.started": "2022-05-21T19:13:17.929463Z"
    },
    "tags": []
   },
   "outputs": [],
   "source": [
    "import pyspark\n",
    "import pandas as pd\n",
    "from pyspark.sql import SparkSession"
   ]
  },
  {
   "cell_type": "markdown",
   "id": "050bcdf2",
   "metadata": {},
   "source": [
    "## Create spark session\n",
    "[back to top](#PySpark-Documentation)"
   ]
  },
  {
   "cell_type": "code",
   "execution_count": 2,
   "id": "f3a99522",
   "metadata": {
    "execution": {
     "iopub.execute_input": "2022-05-21T19:13:26.454344Z",
     "iopub.status.busy": "2022-05-21T19:13:26.453345Z",
     "iopub.status.idle": "2022-05-21T19:13:42.315870Z",
     "shell.execute_reply": "2022-05-21T19:13:42.314866Z",
     "shell.execute_reply.started": "2022-05-21T19:13:26.454344Z"
    },
    "tags": []
   },
   "outputs": [],
   "source": [
    "spark = SparkSession.builder.appName('Practise').getOrCreate()"
   ]
  },
  {
   "cell_type": "code",
   "execution_count": 3,
   "id": "61cd6c69",
   "metadata": {
    "execution": {
     "iopub.execute_input": "2022-05-21T19:13:42.317873Z",
     "iopub.status.busy": "2022-05-21T19:13:42.317873Z",
     "iopub.status.idle": "2022-05-21T19:13:42.346865Z",
     "shell.execute_reply": "2022-05-21T19:13:42.345886Z",
     "shell.execute_reply.started": "2022-05-21T19:13:42.317873Z"
    },
    "tags": []
   },
   "outputs": [
    {
     "data": {
      "text/html": [
       "\n",
       "            <div>\n",
       "                <p><b>SparkSession - in-memory</b></p>\n",
       "                \n",
       "        <div>\n",
       "            <p><b>SparkContext</b></p>\n",
       "\n",
       "            <p><a href=\"http://DESKTOP-LNDKNV9:4040\">Spark UI</a></p>\n",
       "\n",
       "            <dl>\n",
       "              <dt>Version</dt>\n",
       "                <dd><code>v3.2.1</code></dd>\n",
       "              <dt>Master</dt>\n",
       "                <dd><code>local[*]</code></dd>\n",
       "              <dt>AppName</dt>\n",
       "                <dd><code>Practise</code></dd>\n",
       "            </dl>\n",
       "        </div>\n",
       "        \n",
       "            </div>\n",
       "        "
      ],
      "text/plain": [
       "<pyspark.sql.session.SparkSession at 0x1ab1c234dc8>"
      ]
     },
     "execution_count": 3,
     "metadata": {},
     "output_type": "execute_result"
    }
   ],
   "source": [
    "spark"
   ]
  },
  {
   "cell_type": "markdown",
   "id": "8093fdbe",
   "metadata": {},
   "source": [
    "## Read CSV file\n",
    "[back to top](#PySpark-Documentation)"
   ]
  },
  {
   "cell_type": "code",
   "execution_count": 4,
   "id": "84183651",
   "metadata": {
    "execution": {
     "iopub.execute_input": "2022-05-21T19:13:42.349868Z",
     "iopub.status.busy": "2022-05-21T19:13:42.348866Z",
     "iopub.status.idle": "2022-05-21T19:13:56.097767Z",
     "shell.execute_reply": "2022-05-21T19:13:56.095768Z",
     "shell.execute_reply.started": "2022-05-21T19:13:42.349868Z"
    },
    "tags": []
   },
   "outputs": [
    {
     "name": "stdout",
     "output_type": "stream",
     "text": [
      "+---------+----+----------+-------+\n",
      "|     name| age|experience| salary|\n",
      "+---------+----+----------+-------+\n",
      "|    Krish|31.0|      10.0|30000.0|\n",
      "|Sudhanshu|30.0|       8.0|25000.0|\n",
      "|    Sunny|29.0|       4.0|20000.0|\n",
      "|     Paul|24.0|       3.0|20000.0|\n",
      "|   Harsha|21.0|       1.0|15000.0|\n",
      "|  Shubham|23.0|       2.0|18000.0|\n",
      "|  Maheesh|null|      null|40000.0|\n",
      "|     null|34.0|      10.0|38000.0|\n",
      "|     null|36.0|      null|   null|\n",
      "+---------+----+----------+-------+\n",
      "\n"
     ]
    }
   ],
   "source": [
    "df_pyspark = spark.read \\\n",
    "                  .option('header', 'true') \\\n",
    "                  .csv('../Data/test.csv', inferSchema=True)  # read CSV and infer colums type\n",
    "# df_pyspark = spark.read.csv('../Data/test.csv', inferSchema=True, header=True)\n",
    "\n",
    "\n",
    "df_pyspark.show()"
   ]
  },
  {
   "cell_type": "code",
   "execution_count": 5,
   "id": "ca083b5f",
   "metadata": {
    "execution": {
     "iopub.execute_input": "2022-05-21T19:13:56.099764Z",
     "iopub.status.busy": "2022-05-21T19:13:56.098765Z",
     "iopub.status.idle": "2022-05-21T19:13:56.112022Z",
     "shell.execute_reply": "2022-05-21T19:13:56.111018Z",
     "shell.execute_reply.started": "2022-05-21T19:13:56.098765Z"
    },
    "tags": []
   },
   "outputs": [
    {
     "data": {
      "text/plain": [
       "pyspark.sql.dataframe.DataFrame"
      ]
     },
     "execution_count": 5,
     "metadata": {},
     "output_type": "execute_result"
    }
   ],
   "source": [
    "type(df_pyspark)"
   ]
  },
  {
   "cell_type": "markdown",
   "id": "dd2b3dea",
   "metadata": {},
   "source": [
    "## Checking data info\n",
    "[back to top](#PySpark-Documentation)"
   ]
  },
  {
   "cell_type": "code",
   "execution_count": 6,
   "id": "19916afc",
   "metadata": {
    "execution": {
     "iopub.execute_input": "2022-05-21T19:13:56.114019Z",
     "iopub.status.busy": "2022-05-21T19:13:56.114019Z",
     "iopub.status.idle": "2022-05-21T19:13:56.143809Z",
     "shell.execute_reply": "2022-05-21T19:13:56.142809Z",
     "shell.execute_reply.started": "2022-05-21T19:13:56.114019Z"
    }
   },
   "outputs": [
    {
     "name": "stdout",
     "output_type": "stream",
     "text": [
      "root\n",
      " |-- name: string (nullable = true)\n",
      " |-- age: double (nullable = true)\n",
      " |-- experience: double (nullable = true)\n",
      " |-- salary: double (nullable = true)\n",
      "\n"
     ]
    }
   ],
   "source": [
    "df_pyspark.printSchema()"
   ]
  },
  {
   "cell_type": "markdown",
   "id": "5f90e39d",
   "metadata": {},
   "source": [
    "## Checking data type of column\n",
    "[back to top](#PySpark-Documentation)"
   ]
  },
  {
   "cell_type": "code",
   "execution_count": 7,
   "id": "f7b9a580",
   "metadata": {
    "execution": {
     "iopub.execute_input": "2022-05-21T19:13:56.145812Z",
     "iopub.status.busy": "2022-05-21T19:13:56.144810Z",
     "iopub.status.idle": "2022-05-21T19:13:56.207857Z",
     "shell.execute_reply": "2022-05-21T19:13:56.205852Z",
     "shell.execute_reply.started": "2022-05-21T19:13:56.145812Z"
    }
   },
   "outputs": [
    {
     "data": {
      "text/plain": [
       "[('name', 'string'),\n",
       " ('age', 'double'),\n",
       " ('experience', 'double'),\n",
       " ('salary', 'double')]"
      ]
     },
     "execution_count": 7,
     "metadata": {},
     "output_type": "execute_result"
    }
   ],
   "source": [
    "df_pyspark.dtypes"
   ]
  },
  {
   "cell_type": "markdown",
   "id": "544739a9",
   "metadata": {},
   "source": [
    "## Get data by row or column\n",
    "[back to top](#PySpark-Documentation)"
   ]
  },
  {
   "cell_type": "code",
   "execution_count": 8,
   "id": "44c0bf14",
   "metadata": {
    "execution": {
     "iopub.execute_input": "2022-05-21T19:13:56.209856Z",
     "iopub.status.busy": "2022-05-21T19:13:56.208861Z",
     "iopub.status.idle": "2022-05-21T19:13:56.502350Z",
     "shell.execute_reply": "2022-05-21T19:13:56.501389Z",
     "shell.execute_reply.started": "2022-05-21T19:13:56.209856Z"
    }
   },
   "outputs": [
    {
     "data": {
      "text/plain": [
       "[Row(name='Krish', age=31.0, experience=10.0, salary=30000.0),\n",
       " Row(name='Sudhanshu', age=30.0, experience=8.0, salary=25000.0),\n",
       " Row(name='Sunny', age=29.0, experience=4.0, salary=20000.0)]"
      ]
     },
     "execution_count": 8,
     "metadata": {},
     "output_type": "execute_result"
    }
   ],
   "source": [
    "df_pyspark.head(3)"
   ]
  },
  {
   "cell_type": "code",
   "execution_count": 9,
   "id": "d27d6742",
   "metadata": {
    "execution": {
     "iopub.execute_input": "2022-05-21T19:13:56.503350Z",
     "iopub.status.busy": "2022-05-21T19:13:56.503350Z",
     "iopub.status.idle": "2022-05-21T19:13:56.879875Z",
     "shell.execute_reply": "2022-05-21T19:13:56.878872Z",
     "shell.execute_reply.started": "2022-05-21T19:13:56.503350Z"
    },
    "tags": []
   },
   "outputs": [
    {
     "name": "stdout",
     "output_type": "stream",
     "text": [
      "+---------+----------+\n",
      "|     name|experience|\n",
      "+---------+----------+\n",
      "|    Krish|      10.0|\n",
      "|Sudhanshu|       8.0|\n",
      "|    Sunny|       4.0|\n",
      "|     Paul|       3.0|\n",
      "|   Harsha|       1.0|\n",
      "|  Shubham|       2.0|\n",
      "|  Maheesh|      null|\n",
      "|     null|      10.0|\n",
      "|     null|      null|\n",
      "+---------+----------+\n",
      "\n"
     ]
    }
   ],
   "source": [
    "df_pyspark.select(['name', 'experience']).show()"
   ]
  },
  {
   "cell_type": "markdown",
   "id": "403cd00d",
   "metadata": {
    "execution": {
     "iopub.execute_input": "2022-05-20T07:22:42.746450Z",
     "iopub.status.busy": "2022-05-20T07:22:42.745453Z",
     "iopub.status.idle": "2022-05-20T07:22:42.768445Z",
     "shell.execute_reply": "2022-05-20T07:22:42.767446Z",
     "shell.execute_reply.started": "2022-05-20T07:22:42.745453Z"
    },
    "tags": []
   },
   "source": [
    "## Data description\n",
    "[back to top](#PySpark-Documentation)"
   ]
  },
  {
   "cell_type": "code",
   "execution_count": 10,
   "id": "3040925e",
   "metadata": {
    "execution": {
     "iopub.execute_input": "2022-05-21T19:13:56.882876Z",
     "iopub.status.busy": "2022-05-21T19:13:56.881874Z",
     "iopub.status.idle": "2022-05-21T19:13:58.681832Z",
     "shell.execute_reply": "2022-05-21T19:13:58.680830Z",
     "shell.execute_reply.started": "2022-05-21T19:13:56.882876Z"
    }
   },
   "outputs": [
    {
     "name": "stdout",
     "output_type": "stream",
     "text": [
      "+-------+------+------------------+------------------+-----------------+\n",
      "|summary|  name|               age|        experience|           salary|\n",
      "+-------+------+------------------+------------------+-----------------+\n",
      "|  count|     7|                 8|                 7|                8|\n",
      "|   mean|  null|              28.5| 5.428571428571429|          25750.0|\n",
      "| stddev|  null|5.3718844791323335|3.8234863173611093|9361.776388210581|\n",
      "|    min|Harsha|              21.0|               1.0|          15000.0|\n",
      "|    max| Sunny|              36.0|              10.0|          40000.0|\n",
      "+-------+------+------------------+------------------+-----------------+\n",
      "\n"
     ]
    }
   ],
   "source": [
    "df_pyspark.describe().show()"
   ]
  },
  {
   "cell_type": "markdown",
   "id": "55eb6612",
   "metadata": {},
   "source": [
    "## Add columns in data frame\n",
    "[back to top](#PySpark-Documentation)"
   ]
  },
  {
   "cell_type": "code",
   "execution_count": 11,
   "id": "85edea18",
   "metadata": {
    "execution": {
     "iopub.execute_input": "2022-05-21T19:13:58.684829Z",
     "iopub.status.busy": "2022-05-21T19:13:58.683829Z",
     "iopub.status.idle": "2022-05-21T19:13:58.995775Z",
     "shell.execute_reply": "2022-05-21T19:13:58.993776Z",
     "shell.execute_reply.started": "2022-05-21T19:13:58.684829Z"
    },
    "tags": []
   },
   "outputs": [
    {
     "name": "stdout",
     "output_type": "stream",
     "text": [
      "+---------+----+----------+-------+-----------------------+\n",
      "|     name| age|experience| salary|experience after 2 year|\n",
      "+---------+----+----------+-------+-----------------------+\n",
      "|    Krish|31.0|      10.0|30000.0|                   12.0|\n",
      "|Sudhanshu|30.0|       8.0|25000.0|                   10.0|\n",
      "|    Sunny|29.0|       4.0|20000.0|                    6.0|\n",
      "|     Paul|24.0|       3.0|20000.0|                    5.0|\n",
      "|   Harsha|21.0|       1.0|15000.0|                    3.0|\n",
      "|  Shubham|23.0|       2.0|18000.0|                    4.0|\n",
      "|  Maheesh|null|      null|40000.0|                   null|\n",
      "|     null|34.0|      10.0|38000.0|                   12.0|\n",
      "|     null|36.0|      null|   null|                   null|\n",
      "+---------+----+----------+-------+-----------------------+\n",
      "\n"
     ]
    }
   ],
   "source": [
    "df_pyspark = df_pyspark.withColumn('experience after 2 year', df_pyspark['experience']+2)\n",
    "df_pyspark.show()"
   ]
  },
  {
   "cell_type": "markdown",
   "id": "6a408072",
   "metadata": {},
   "source": [
    "## Drop the columns\n",
    "[back to top](#PySpark-Documentation)"
   ]
  },
  {
   "cell_type": "code",
   "execution_count": 12,
   "id": "e9a36f44",
   "metadata": {
    "execution": {
     "iopub.execute_input": "2022-05-21T19:13:58.997775Z",
     "iopub.status.busy": "2022-05-21T19:13:58.997775Z",
     "iopub.status.idle": "2022-05-21T19:13:59.167958Z",
     "shell.execute_reply": "2022-05-21T19:13:59.166960Z",
     "shell.execute_reply.started": "2022-05-21T19:13:58.997775Z"
    },
    "tags": []
   },
   "outputs": [
    {
     "name": "stdout",
     "output_type": "stream",
     "text": [
      "+---------+----+----------+-------+\n",
      "|     name| age|experience| salary|\n",
      "+---------+----+----------+-------+\n",
      "|    Krish|31.0|      10.0|30000.0|\n",
      "|Sudhanshu|30.0|       8.0|25000.0|\n",
      "|    Sunny|29.0|       4.0|20000.0|\n",
      "|     Paul|24.0|       3.0|20000.0|\n",
      "|   Harsha|21.0|       1.0|15000.0|\n",
      "|  Shubham|23.0|       2.0|18000.0|\n",
      "|  Maheesh|null|      null|40000.0|\n",
      "|     null|34.0|      10.0|38000.0|\n",
      "|     null|36.0|      null|   null|\n",
      "+---------+----+----------+-------+\n",
      "\n"
     ]
    }
   ],
   "source": [
    "df_pyspark = df_pyspark.drop('experience after 2 year')\n",
    "df_pyspark.show()"
   ]
  },
  {
   "cell_type": "markdown",
   "id": "3694e7d0",
   "metadata": {},
   "source": [
    "## Rename the column\n",
    "[back to top](#PySpark-Documentation)"
   ]
  },
  {
   "cell_type": "code",
   "execution_count": 13,
   "id": "79334dfd",
   "metadata": {
    "execution": {
     "iopub.execute_input": "2022-05-21T19:13:59.173960Z",
     "iopub.status.busy": "2022-05-21T19:13:59.172957Z",
     "iopub.status.idle": "2022-05-21T19:13:59.326965Z",
     "shell.execute_reply": "2022-05-21T19:13:59.324964Z",
     "shell.execute_reply.started": "2022-05-21T19:13:59.173960Z"
    },
    "tags": []
   },
   "outputs": [
    {
     "name": "stdout",
     "output_type": "stream",
     "text": [
      "+---------+----+----------+-------+\n",
      "| new name| age|experience| salary|\n",
      "+---------+----+----------+-------+\n",
      "|    Krish|31.0|      10.0|30000.0|\n",
      "|Sudhanshu|30.0|       8.0|25000.0|\n",
      "|    Sunny|29.0|       4.0|20000.0|\n",
      "|     Paul|24.0|       3.0|20000.0|\n",
      "|   Harsha|21.0|       1.0|15000.0|\n",
      "|  Shubham|23.0|       2.0|18000.0|\n",
      "|  Maheesh|null|      null|40000.0|\n",
      "|     null|34.0|      10.0|38000.0|\n",
      "|     null|36.0|      null|   null|\n",
      "+---------+----+----------+-------+\n",
      "\n"
     ]
    }
   ],
   "source": [
    "df_pyspark.withColumnRenamed('name', 'new name').show()"
   ]
  },
  {
   "cell_type": "markdown",
   "id": "f93a5862",
   "metadata": {},
   "source": [
    "## Drop na by row\n",
    "[back to top](#PySpark-Documentation)"
   ]
  },
  {
   "cell_type": "code",
   "execution_count": 14,
   "id": "c7018cec",
   "metadata": {
    "execution": {
     "iopub.execute_input": "2022-05-21T19:13:59.330966Z",
     "iopub.status.busy": "2022-05-21T19:13:59.329963Z",
     "iopub.status.idle": "2022-05-21T19:13:59.500197Z",
     "shell.execute_reply": "2022-05-21T19:13:59.499194Z",
     "shell.execute_reply.started": "2022-05-21T19:13:59.330966Z"
    },
    "tags": []
   },
   "outputs": [
    {
     "name": "stdout",
     "output_type": "stream",
     "text": [
      "+---------+----+----------+-------+\n",
      "|     name| age|experience| salary|\n",
      "+---------+----+----------+-------+\n",
      "|    Krish|31.0|      10.0|30000.0|\n",
      "|Sudhanshu|30.0|       8.0|25000.0|\n",
      "|    Sunny|29.0|       4.0|20000.0|\n",
      "|     Paul|24.0|       3.0|20000.0|\n",
      "|   Harsha|21.0|       1.0|15000.0|\n",
      "|  Shubham|23.0|       2.0|18000.0|\n",
      "|  Maheesh|null|      null|40000.0|\n",
      "|     null|34.0|      10.0|38000.0|\n",
      "|     null|36.0|      null|   null|\n",
      "+---------+----+----------+-------+\n",
      "\n"
     ]
    }
   ],
   "source": [
    "df_pyspark.na.drop(how='all').show()"
   ]
  },
  {
   "cell_type": "code",
   "execution_count": 15,
   "id": "26627975",
   "metadata": {
    "execution": {
     "iopub.execute_input": "2022-05-21T19:13:59.501199Z",
     "iopub.status.busy": "2022-05-21T19:13:59.501199Z",
     "iopub.status.idle": "2022-05-21T19:13:59.768711Z",
     "shell.execute_reply": "2022-05-21T19:13:59.766712Z",
     "shell.execute_reply.started": "2022-05-21T19:13:59.501199Z"
    },
    "tags": []
   },
   "outputs": [
    {
     "name": "stdout",
     "output_type": "stream",
     "text": [
      "+---------+----+----------+-------+\n",
      "|     name| age|experience| salary|\n",
      "+---------+----+----------+-------+\n",
      "|    Krish|31.0|      10.0|30000.0|\n",
      "|Sudhanshu|30.0|       8.0|25000.0|\n",
      "|    Sunny|29.0|       4.0|20000.0|\n",
      "|     Paul|24.0|       3.0|20000.0|\n",
      "|   Harsha|21.0|       1.0|15000.0|\n",
      "|  Shubham|23.0|       2.0|18000.0|\n",
      "|  Maheesh|null|      null|40000.0|\n",
      "|     null|34.0|      10.0|38000.0|\n",
      "+---------+----+----------+-------+\n",
      "\n"
     ]
    }
   ],
   "source": [
    "# thresh: how many value can't be null\n",
    "df_pyspark.na.drop(how='any', thresh=2).show()"
   ]
  },
  {
   "cell_type": "code",
   "execution_count": 16,
   "id": "45e04465",
   "metadata": {
    "execution": {
     "iopub.execute_input": "2022-05-21T19:13:59.771713Z",
     "iopub.status.busy": "2022-05-21T19:13:59.770713Z",
     "iopub.status.idle": "2022-05-21T19:13:59.999709Z",
     "shell.execute_reply": "2022-05-21T19:13:59.998708Z",
     "shell.execute_reply.started": "2022-05-21T19:13:59.771713Z"
    },
    "tags": []
   },
   "outputs": [
    {
     "name": "stdout",
     "output_type": "stream",
     "text": [
      "+---------+----+----------+-------+\n",
      "|     name| age|experience| salary|\n",
      "+---------+----+----------+-------+\n",
      "|    Krish|31.0|      10.0|30000.0|\n",
      "|Sudhanshu|30.0|       8.0|25000.0|\n",
      "|    Sunny|29.0|       4.0|20000.0|\n",
      "|     Paul|24.0|       3.0|20000.0|\n",
      "|   Harsha|21.0|       1.0|15000.0|\n",
      "|  Shubham|23.0|       2.0|18000.0|\n",
      "|     null|34.0|      10.0|38000.0|\n",
      "|     null|36.0|      null|   null|\n",
      "+---------+----+----------+-------+\n",
      "\n"
     ]
    }
   ],
   "source": [
    "df_pyspark.na.drop(how='any', thresh=1, subset=['age']).show()"
   ]
  },
  {
   "cell_type": "markdown",
   "id": "4e6cb047",
   "metadata": {},
   "source": [
    "## Fill the missing values\n",
    "[back to top](#PySpark-Documentation)\n",
    "\n",
    "Spark will fill the missing value with the parameter you give, but only for columns that have the same type "
   ]
  },
  {
   "cell_type": "code",
   "execution_count": 17,
   "id": "a875099d",
   "metadata": {
    "execution": {
     "iopub.execute_input": "2022-05-21T19:14:00.002710Z",
     "iopub.status.busy": "2022-05-21T19:14:00.001708Z",
     "iopub.status.idle": "2022-05-21T19:14:00.376679Z",
     "shell.execute_reply": "2022-05-21T19:14:00.373677Z",
     "shell.execute_reply.started": "2022-05-21T19:14:00.002710Z"
    },
    "tags": []
   },
   "outputs": [
    {
     "name": "stdout",
     "output_type": "stream",
     "text": [
      "+-------------+----+----------+-------+\n",
      "|         name| age|experience| salary|\n",
      "+-------------+----+----------+-------+\n",
      "|        Krish|31.0|      10.0|30000.0|\n",
      "|    Sudhanshu|30.0|       8.0|25000.0|\n",
      "|        Sunny|29.0|       4.0|20000.0|\n",
      "|         Paul|24.0|       3.0|20000.0|\n",
      "|       Harsha|21.0|       1.0|15000.0|\n",
      "|      Shubham|23.0|       2.0|18000.0|\n",
      "|      Maheesh|null|      null|40000.0|\n",
      "|missing value|34.0|      10.0|38000.0|\n",
      "|missing value|36.0|      null|   null|\n",
      "+-------------+----+----------+-------+\n",
      "\n"
     ]
    }
   ],
   "source": [
    "df_pyspark.na.fill('missing value').show()"
   ]
  },
  {
   "cell_type": "code",
   "execution_count": 18,
   "id": "1e920f32",
   "metadata": {
    "execution": {
     "iopub.execute_input": "2022-05-21T19:14:00.378676Z",
     "iopub.status.busy": "2022-05-21T19:14:00.378676Z",
     "iopub.status.idle": "2022-05-21T19:14:00.845604Z",
     "shell.execute_reply": "2022-05-21T19:14:00.843609Z",
     "shell.execute_reply.started": "2022-05-21T19:14:00.378676Z"
    },
    "tags": []
   },
   "outputs": [
    {
     "name": "stdout",
     "output_type": "stream",
     "text": [
      "+---------+-----+----------+-------+\n",
      "|     name|  age|experience| salary|\n",
      "+---------+-----+----------+-------+\n",
      "|    Krish| 31.0|      10.0|30000.0|\n",
      "|Sudhanshu| 30.0|       8.0|25000.0|\n",
      "|    Sunny| 29.0|       4.0|20000.0|\n",
      "|     Paul| 24.0|       3.0|20000.0|\n",
      "|   Harsha| 21.0|       1.0|15000.0|\n",
      "|  Shubham| 23.0|       2.0|18000.0|\n",
      "|  Maheesh|100.0|     100.0|40000.0|\n",
      "|     null| 34.0|      10.0|38000.0|\n",
      "|     null| 36.0|     100.0|  100.0|\n",
      "+---------+-----+----------+-------+\n",
      "\n"
     ]
    }
   ],
   "source": [
    "df_pyspark.na.fill(100).show()"
   ]
  },
  {
   "cell_type": "markdown",
   "id": "8cf52a93",
   "metadata": {},
   "source": [
    "## Imputer\n",
    "[back to top](#PySpark-Documentation)"
   ]
  },
  {
   "cell_type": "code",
   "execution_count": 19,
   "id": "7ba93392",
   "metadata": {
    "execution": {
     "iopub.execute_input": "2022-05-21T19:14:00.848603Z",
     "iopub.status.busy": "2022-05-21T19:14:00.847603Z",
     "iopub.status.idle": "2022-05-21T19:14:02.894397Z",
     "shell.execute_reply": "2022-05-21T19:14:02.891401Z",
     "shell.execute_reply.started": "2022-05-21T19:14:00.848603Z"
    },
    "tags": []
   },
   "outputs": [],
   "source": [
    "from pyspark.ml.feature import Imputer"
   ]
  },
  {
   "cell_type": "code",
   "execution_count": 20,
   "id": "c3a1d2eb",
   "metadata": {
    "execution": {
     "iopub.execute_input": "2022-05-21T19:14:02.898397Z",
     "iopub.status.busy": "2022-05-21T19:14:02.897397Z",
     "iopub.status.idle": "2022-05-21T19:14:03.111074Z",
     "shell.execute_reply": "2022-05-21T19:14:03.109073Z",
     "shell.execute_reply.started": "2022-05-21T19:14:02.898397Z"
    },
    "tags": []
   },
   "outputs": [],
   "source": [
    "imputer = Imputer(\n",
    "    inputCols = ['age', 'experience', 'salary'],\n",
    "    outputCols = [f'{c}_imputed' for c in ['age', 'experience', 'salary']]\n",
    ").setStrategy('mean')"
   ]
  },
  {
   "cell_type": "code",
   "execution_count": 21,
   "id": "7cd39d18",
   "metadata": {
    "execution": {
     "iopub.execute_input": "2022-05-21T19:14:03.116079Z",
     "iopub.status.busy": "2022-05-21T19:14:03.114073Z",
     "iopub.status.idle": "2022-05-21T19:14:04.439055Z",
     "shell.execute_reply": "2022-05-21T19:14:04.438050Z",
     "shell.execute_reply.started": "2022-05-21T19:14:03.116079Z"
    }
   },
   "outputs": [
    {
     "name": "stdout",
     "output_type": "stream",
     "text": [
      "+---------+----+----------+-------+-----------+------------------+--------------+\n",
      "|     name| age|experience| salary|age_imputed|experience_imputed|salary_imputed|\n",
      "+---------+----+----------+-------+-----------+------------------+--------------+\n",
      "|    Krish|31.0|      10.0|30000.0|       31.0|              10.0|       30000.0|\n",
      "|Sudhanshu|30.0|       8.0|25000.0|       30.0|               8.0|       25000.0|\n",
      "|    Sunny|29.0|       4.0|20000.0|       29.0|               4.0|       20000.0|\n",
      "|     Paul|24.0|       3.0|20000.0|       24.0|               3.0|       20000.0|\n",
      "|   Harsha|21.0|       1.0|15000.0|       21.0|               1.0|       15000.0|\n",
      "|  Shubham|23.0|       2.0|18000.0|       23.0|               2.0|       18000.0|\n",
      "|  Maheesh|null|      null|40000.0|       28.5| 5.428571428571429|       40000.0|\n",
      "|     null|34.0|      10.0|38000.0|       34.0|              10.0|       38000.0|\n",
      "|     null|36.0|      null|   null|       36.0| 5.428571428571429|       25750.0|\n",
      "+---------+----+----------+-------+-----------+------------------+--------------+\n",
      "\n"
     ]
    }
   ],
   "source": [
    "# add imputation cols to df\n",
    "imputer.fit(df_pyspark).transform(df_pyspark).show()"
   ]
  },
  {
   "cell_type": "markdown",
   "id": "27772b1a",
   "metadata": {},
   "source": [
    "## Filter Operation\n",
    "[back to top](#PySpark-Documentation)"
   ]
  },
  {
   "cell_type": "code",
   "execution_count": 22,
   "id": "8d15fee9",
   "metadata": {
    "execution": {
     "iopub.execute_input": "2022-05-21T19:14:04.442055Z",
     "iopub.status.busy": "2022-05-21T19:14:04.441055Z",
     "iopub.status.idle": "2022-05-21T19:14:04.802696Z",
     "shell.execute_reply": "2022-05-21T19:14:04.801696Z",
     "shell.execute_reply.started": "2022-05-21T19:14:04.442055Z"
    }
   },
   "outputs": [
    {
     "name": "stdout",
     "output_type": "stream",
     "text": [
      "+-------+----+----------+-------+\n",
      "|   name| age|experience| salary|\n",
      "+-------+----+----------+-------+\n",
      "|  Sunny|29.0|       4.0|20000.0|\n",
      "|   Paul|24.0|       3.0|20000.0|\n",
      "| Harsha|21.0|       1.0|15000.0|\n",
      "|Shubham|23.0|       2.0|18000.0|\n",
      "+-------+----+----------+-------+\n",
      "\n"
     ]
    }
   ],
   "source": [
    "df_pyspark.filter('salary<=20000').show()"
   ]
  },
  {
   "cell_type": "code",
   "execution_count": 23,
   "id": "e92f6c7c",
   "metadata": {
    "execution": {
     "iopub.execute_input": "2022-05-21T19:14:04.804696Z",
     "iopub.status.busy": "2022-05-21T19:14:04.804696Z",
     "iopub.status.idle": "2022-05-21T19:14:05.073655Z",
     "shell.execute_reply": "2022-05-21T19:14:05.071653Z",
     "shell.execute_reply.started": "2022-05-21T19:14:04.804696Z"
    },
    "tags": []
   },
   "outputs": [
    {
     "name": "stdout",
     "output_type": "stream",
     "text": [
      "+-------+----+----------+-------+\n",
      "|   name| age|experience| salary|\n",
      "+-------+----+----------+-------+\n",
      "|Shubham|23.0|       2.0|18000.0|\n",
      "+-------+----+----------+-------+\n",
      "\n"
     ]
    }
   ],
   "source": [
    "df_pyspark.filter(\n",
    "    (df_pyspark['salary'] <= 19000) &\n",
    "    (df_pyspark['salary'] >= 16000)\n",
    ").show()"
   ]
  },
  {
   "cell_type": "code",
   "execution_count": 24,
   "id": "28919e0e",
   "metadata": {
    "execution": {
     "iopub.execute_input": "2022-05-21T19:14:05.075656Z",
     "iopub.status.busy": "2022-05-21T19:14:05.075656Z",
     "iopub.status.idle": "2022-05-21T19:14:05.341143Z",
     "shell.execute_reply": "2022-05-21T19:14:05.339126Z",
     "shell.execute_reply.started": "2022-05-21T19:14:05.075656Z"
    }
   },
   "outputs": [
    {
     "name": "stdout",
     "output_type": "stream",
     "text": [
      "+---------+----+----------+-------+\n",
      "|     name| age|experience| salary|\n",
      "+---------+----+----------+-------+\n",
      "|    Krish|31.0|      10.0|30000.0|\n",
      "|Sudhanshu|30.0|       8.0|25000.0|\n",
      "|  Maheesh|null|      null|40000.0|\n",
      "|     null|34.0|      10.0|38000.0|\n",
      "+---------+----+----------+-------+\n",
      "\n"
     ]
    }
   ],
   "source": [
    "df_pyspark.filter(\n",
    "    ~(df_pyspark['salary'] <= 20000) \n",
    ").show()"
   ]
  },
  {
   "cell_type": "markdown",
   "id": "f172758c",
   "metadata": {},
   "source": [
    "## GroupBy and Aggregate Function\n",
    "[back to top](#PySpark-Documentation)"
   ]
  },
  {
   "cell_type": "code",
   "execution_count": 25,
   "id": "88a87a7b",
   "metadata": {
    "execution": {
     "iopub.execute_input": "2022-05-21T19:14:05.343142Z",
     "iopub.status.busy": "2022-05-21T19:14:05.343142Z",
     "iopub.status.idle": "2022-05-21T19:14:05.720512Z",
     "shell.execute_reply": "2022-05-21T19:14:05.719510Z",
     "shell.execute_reply.started": "2022-05-21T19:14:05.343142Z"
    },
    "tags": []
   },
   "outputs": [],
   "source": [
    "df_pyspark = spark.read \\\n",
    "                  .option('header', 'true') \\\n",
    "                  .csv('../Data/test2.csv', inferSchema=True) "
   ]
  },
  {
   "cell_type": "code",
   "execution_count": 26,
   "id": "439eedd9",
   "metadata": {
    "execution": {
     "iopub.execute_input": "2022-05-21T19:14:05.722514Z",
     "iopub.status.busy": "2022-05-21T19:14:05.721513Z",
     "iopub.status.idle": "2022-05-21T19:14:05.909485Z",
     "shell.execute_reply": "2022-05-21T19:14:05.907486Z",
     "shell.execute_reply.started": "2022-05-21T19:14:05.722514Z"
    },
    "tags": []
   },
   "outputs": [
    {
     "name": "stdout",
     "output_type": "stream",
     "text": [
      "+---------+------------+------+\n",
      "|     name|  department|salary|\n",
      "+---------+------------+------+\n",
      "|    Krish|Data Science| 10000|\n",
      "|    Krish|         IOT|  5000|\n",
      "|   Mahesh|         IOT|  4000|\n",
      "|    Krish|         IOT|  4000|\n",
      "|   Mahesh|         IOT|  3000|\n",
      "|Sudhanshu|         IOT| 20000|\n",
      "|Sudhanshu|         IOT| 10000|\n",
      "|Sudhanshu|         IOT|  5000|\n",
      "|    Sunny|         IOT| 10000|\n",
      "|    Sunny|         IOT|  2000|\n",
      "+---------+------------+------+\n",
      "\n"
     ]
    }
   ],
   "source": [
    "df_pyspark.show()"
   ]
  },
  {
   "cell_type": "code",
   "execution_count": 27,
   "id": "49fff1ed",
   "metadata": {
    "execution": {
     "iopub.execute_input": "2022-05-21T19:14:05.911486Z",
     "iopub.status.busy": "2022-05-21T19:14:05.911486Z",
     "iopub.status.idle": "2022-05-21T19:14:05.925485Z",
     "shell.execute_reply": "2022-05-21T19:14:05.923483Z",
     "shell.execute_reply.started": "2022-05-21T19:14:05.911486Z"
    },
    "tags": []
   },
   "outputs": [
    {
     "name": "stdout",
     "output_type": "stream",
     "text": [
      "root\n",
      " |-- name: string (nullable = true)\n",
      " |-- department: string (nullable = true)\n",
      " |-- salary: integer (nullable = true)\n",
      "\n"
     ]
    }
   ],
   "source": [
    "df_pyspark.printSchema()"
   ]
  },
  {
   "cell_type": "code",
   "execution_count": 28,
   "id": "5699df9a",
   "metadata": {
    "execution": {
     "iopub.execute_input": "2022-05-21T19:14:05.929482Z",
     "iopub.status.busy": "2022-05-21T19:14:05.928481Z",
     "iopub.status.idle": "2022-05-21T19:14:07.480565Z",
     "shell.execute_reply": "2022-05-21T19:14:07.479581Z",
     "shell.execute_reply.started": "2022-05-21T19:14:05.929482Z"
    },
    "tags": []
   },
   "outputs": [
    {
     "name": "stdout",
     "output_type": "stream",
     "text": [
      "+---------+-----------+\n",
      "|     Name|sum(salary)|\n",
      "+---------+-----------+\n",
      "|Sudhanshu|      35000|\n",
      "|    Sunny|      12000|\n",
      "|    Krish|      19000|\n",
      "|   Mahesh|       7000|\n",
      "+---------+-----------+\n",
      "\n",
      "+---------+-----+\n",
      "|     Name|count|\n",
      "+---------+-----+\n",
      "|Sudhanshu|    3|\n",
      "|    Sunny|    2|\n",
      "|    Krish|    3|\n",
      "|   Mahesh|    2|\n",
      "+---------+-----+\n",
      "\n",
      "+---------+-----------+\n",
      "|     Name|max(salary)|\n",
      "+---------+-----------+\n",
      "|Sudhanshu|      20000|\n",
      "|    Sunny|      10000|\n",
      "|    Krish|      10000|\n",
      "|   Mahesh|       4000|\n",
      "+---------+-----------+\n",
      "\n",
      "+-----------+\n",
      "|sum(salary)|\n",
      "+-----------+\n",
      "|      73000|\n",
      "+-----------+\n",
      "\n"
     ]
    }
   ],
   "source": [
    "df_pyspark.groupBy('Name').sum().show()\n",
    "df_pyspark.groupBy('Name').count().show()\n",
    "df_pyspark.groupBy('Name').max().show()\n",
    "df_pyspark.agg({'salary': 'sum'}).show()"
   ]
  },
  {
   "cell_type": "markdown",
   "id": "c62648a9",
   "metadata": {},
   "source": [
    "## Pyspark ML\n",
    "[back to top](#PySpark-Documentation)"
   ]
  },
  {
   "cell_type": "code",
   "execution_count": 29,
   "id": "e01551ba",
   "metadata": {
    "execution": {
     "iopub.execute_input": "2022-05-21T19:14:07.481566Z",
     "iopub.status.busy": "2022-05-21T19:14:07.481566Z",
     "iopub.status.idle": "2022-05-21T19:14:07.495842Z",
     "shell.execute_reply": "2022-05-21T19:14:07.494835Z",
     "shell.execute_reply.started": "2022-05-21T19:14:07.481566Z"
    },
    "tags": []
   },
   "outputs": [],
   "source": [
    "from pyspark.ml.feature import VectorAssembler"
   ]
  },
  {
   "cell_type": "code",
   "execution_count": 30,
   "id": "f402c585",
   "metadata": {
    "execution": {
     "iopub.execute_input": "2022-05-21T19:14:07.496857Z",
     "iopub.status.busy": "2022-05-21T19:14:07.496857Z",
     "iopub.status.idle": "2022-05-21T19:14:07.891249Z",
     "shell.execute_reply": "2022-05-21T19:14:07.889245Z",
     "shell.execute_reply.started": "2022-05-21T19:14:07.496857Z"
    },
    "tags": []
   },
   "outputs": [],
   "source": [
    "sdf = spark.read \\\n",
    "           .option('header', 'true') \\\n",
    "           .csv('../Data/test.csv', inferSchema=True) "
   ]
  },
  {
   "cell_type": "code",
   "execution_count": 31,
   "id": "149981ec",
   "metadata": {
    "execution": {
     "iopub.execute_input": "2022-05-21T19:14:07.895246Z",
     "iopub.status.busy": "2022-05-21T19:14:07.894248Z",
     "iopub.status.idle": "2022-05-21T19:14:08.046227Z",
     "shell.execute_reply": "2022-05-21T19:14:08.044225Z",
     "shell.execute_reply.started": "2022-05-21T19:14:07.895246Z"
    },
    "tags": []
   },
   "outputs": [
    {
     "name": "stdout",
     "output_type": "stream",
     "text": [
      "+---------+----+----------+-------+\n",
      "|     name| age|experience| salary|\n",
      "+---------+----+----------+-------+\n",
      "|    Krish|31.0|      10.0|30000.0|\n",
      "|Sudhanshu|30.0|       8.0|25000.0|\n",
      "|    Sunny|29.0|       4.0|20000.0|\n",
      "|     Paul|24.0|       3.0|20000.0|\n",
      "|   Harsha|21.0|       1.0|15000.0|\n",
      "|  Shubham|23.0|       2.0|18000.0|\n",
      "|  Maheesh|null|      null|40000.0|\n",
      "|     null|34.0|      10.0|38000.0|\n",
      "|     null|36.0|      null|   null|\n",
      "+---------+----+----------+-------+\n",
      "\n"
     ]
    }
   ],
   "source": [
    "sdf.show()"
   ]
  },
  {
   "cell_type": "code",
   "execution_count": 32,
   "id": "cb99147b",
   "metadata": {
    "execution": {
     "iopub.execute_input": "2022-05-21T19:14:08.050239Z",
     "iopub.status.busy": "2022-05-21T19:14:08.048228Z",
     "iopub.status.idle": "2022-05-21T19:14:08.076252Z",
     "shell.execute_reply": "2022-05-21T19:14:08.075267Z",
     "shell.execute_reply.started": "2022-05-21T19:14:08.050239Z"
    },
    "tags": []
   },
   "outputs": [],
   "source": [
    "sdf = sdf.na.drop(how='any')"
   ]
  },
  {
   "cell_type": "code",
   "execution_count": 33,
   "id": "cd12f8f2",
   "metadata": {
    "execution": {
     "iopub.execute_input": "2022-05-21T19:14:08.078249Z",
     "iopub.status.busy": "2022-05-21T19:14:08.078249Z",
     "iopub.status.idle": "2022-05-21T19:14:08.093260Z",
     "shell.execute_reply": "2022-05-21T19:14:08.091258Z",
     "shell.execute_reply.started": "2022-05-21T19:14:08.078249Z"
    },
    "tags": []
   },
   "outputs": [
    {
     "name": "stdout",
     "output_type": "stream",
     "text": [
      "root\n",
      " |-- name: string (nullable = true)\n",
      " |-- age: double (nullable = true)\n",
      " |-- experience: double (nullable = true)\n",
      " |-- salary: double (nullable = true)\n",
      "\n"
     ]
    }
   ],
   "source": [
    "sdf.printSchema()"
   ]
  },
  {
   "cell_type": "code",
   "execution_count": 34,
   "id": "3496c7bc",
   "metadata": {
    "execution": {
     "iopub.execute_input": "2022-05-21T19:14:08.096260Z",
     "iopub.status.busy": "2022-05-21T19:14:08.095258Z",
     "iopub.status.idle": "2022-05-21T19:14:08.360416Z",
     "shell.execute_reply": "2022-05-21T19:14:08.358414Z",
     "shell.execute_reply.started": "2022-05-21T19:14:08.096260Z"
    },
    "tags": []
   },
   "outputs": [],
   "source": [
    "featureassembler = VectorAssembler(inputCols=['age', 'experience'], outputCol='input feature')\n",
    "sdf = featureassembler.transform(sdf)"
   ]
  },
  {
   "cell_type": "code",
   "execution_count": 35,
   "id": "23af6b1f",
   "metadata": {
    "execution": {
     "iopub.execute_input": "2022-05-21T19:14:08.363417Z",
     "iopub.status.busy": "2022-05-21T19:14:08.362417Z",
     "iopub.status.idle": "2022-05-21T19:14:09.004114Z",
     "shell.execute_reply": "2022-05-21T19:14:09.002114Z",
     "shell.execute_reply.started": "2022-05-21T19:14:08.363417Z"
    },
    "tags": []
   },
   "outputs": [
    {
     "name": "stdout",
     "output_type": "stream",
     "text": [
      "+---------+----+----------+-------+-------------+\n",
      "|     name| age|experience| salary|input feature|\n",
      "+---------+----+----------+-------+-------------+\n",
      "|    Krish|31.0|      10.0|30000.0|  [31.0,10.0]|\n",
      "|Sudhanshu|30.0|       8.0|25000.0|   [30.0,8.0]|\n",
      "|    Sunny|29.0|       4.0|20000.0|   [29.0,4.0]|\n",
      "|     Paul|24.0|       3.0|20000.0|   [24.0,3.0]|\n",
      "|   Harsha|21.0|       1.0|15000.0|   [21.0,1.0]|\n",
      "|  Shubham|23.0|       2.0|18000.0|   [23.0,2.0]|\n",
      "+---------+----+----------+-------+-------------+\n",
      "\n"
     ]
    }
   ],
   "source": [
    "sdf.show()"
   ]
  },
  {
   "cell_type": "code",
   "execution_count": 36,
   "id": "8185e1f6",
   "metadata": {
    "execution": {
     "iopub.execute_input": "2022-05-21T19:14:09.008115Z",
     "iopub.status.busy": "2022-05-21T19:14:09.007114Z",
     "iopub.status.idle": "2022-05-21T19:14:09.210125Z",
     "shell.execute_reply": "2022-05-21T19:14:09.208143Z",
     "shell.execute_reply.started": "2022-05-21T19:14:09.008115Z"
    },
    "tags": []
   },
   "outputs": [
    {
     "name": "stdout",
     "output_type": "stream",
     "text": [
      "+-------------+-------+\n",
      "|input feature| salary|\n",
      "+-------------+-------+\n",
      "|  [31.0,10.0]|30000.0|\n",
      "|   [30.0,8.0]|25000.0|\n",
      "|   [29.0,4.0]|20000.0|\n",
      "|   [24.0,3.0]|20000.0|\n",
      "|   [21.0,1.0]|15000.0|\n",
      "|   [23.0,2.0]|18000.0|\n",
      "+-------------+-------+\n",
      "\n"
     ]
    }
   ],
   "source": [
    "finalized_data = sdf.select('input feature', 'salary')\n",
    "finalized_data.show()"
   ]
  },
  {
   "cell_type": "code",
   "execution_count": 37,
   "id": "27969e53",
   "metadata": {
    "execution": {
     "iopub.execute_input": "2022-05-21T19:14:09.211124Z",
     "iopub.status.busy": "2022-05-21T19:14:09.211124Z",
     "iopub.status.idle": "2022-05-21T19:14:09.226147Z",
     "shell.execute_reply": "2022-05-21T19:14:09.223152Z",
     "shell.execute_reply.started": "2022-05-21T19:14:09.211124Z"
    },
    "tags": []
   },
   "outputs": [],
   "source": [
    "from pyspark.ml.regression import LinearRegression"
   ]
  },
  {
   "cell_type": "code",
   "execution_count": 38,
   "id": "8b60d246",
   "metadata": {
    "execution": {
     "iopub.execute_input": "2022-05-21T19:14:09.228149Z",
     "iopub.status.busy": "2022-05-21T19:14:09.228149Z",
     "iopub.status.idle": "2022-05-21T19:14:12.096965Z",
     "shell.execute_reply": "2022-05-21T19:14:12.094968Z",
     "shell.execute_reply.started": "2022-05-21T19:14:09.228149Z"
    },
    "tags": []
   },
   "outputs": [],
   "source": [
    "# train test split\n",
    "train_data, test_data = finalized_data.randomSplit([0.5, 0.5])\n",
    "regressor = LinearRegression(featuresCol='input feature', labelCol='salary')\n",
    "regressor = regressor.fit(train_data)"
   ]
  },
  {
   "cell_type": "code",
   "execution_count": 39,
   "id": "a1d8e64a",
   "metadata": {
    "execution": {
     "iopub.execute_input": "2022-05-21T19:14:12.098965Z",
     "iopub.status.busy": "2022-05-21T19:14:12.098965Z",
     "iopub.status.idle": "2022-05-21T19:14:12.160054Z",
     "shell.execute_reply": "2022-05-21T19:14:12.159054Z",
     "shell.execute_reply.started": "2022-05-21T19:14:12.098965Z"
    },
    "tags": []
   },
   "outputs": [
    {
     "data": {
      "text/plain": [
       "DenseVector([833.3333, 1250.0])"
      ]
     },
     "execution_count": 39,
     "metadata": {},
     "output_type": "execute_result"
    }
   ],
   "source": [
    "regressor.coefficients"
   ]
  },
  {
   "cell_type": "code",
   "execution_count": 40,
   "id": "dd79da93",
   "metadata": {
    "execution": {
     "iopub.execute_input": "2022-05-21T19:14:12.162053Z",
     "iopub.status.busy": "2022-05-21T19:14:12.162053Z",
     "iopub.status.idle": "2022-05-21T19:14:12.177052Z",
     "shell.execute_reply": "2022-05-21T19:14:12.175052Z",
     "shell.execute_reply.started": "2022-05-21T19:14:12.162053Z"
    },
    "tags": []
   },
   "outputs": [
    {
     "data": {
      "text/plain": [
       "-3749.9999999996494"
      ]
     },
     "execution_count": 40,
     "metadata": {},
     "output_type": "execute_result"
    }
   ],
   "source": [
    "regressor.intercept"
   ]
  },
  {
   "cell_type": "code",
   "execution_count": 41,
   "id": "520b62b9",
   "metadata": {
    "execution": {
     "iopub.execute_input": "2022-05-21T19:14:12.181049Z",
     "iopub.status.busy": "2022-05-21T19:14:12.180049Z",
     "iopub.status.idle": "2022-05-21T19:14:12.410026Z",
     "shell.execute_reply": "2022-05-21T19:14:12.409025Z",
     "shell.execute_reply.started": "2022-05-21T19:14:12.180049Z"
    },
    "tags": []
   },
   "outputs": [
    {
     "name": "stdout",
     "output_type": "stream",
     "text": [
      "+-------------+-------+\n",
      "|input feature| salary|\n",
      "+-------------+-------+\n",
      "|   [23.0,2.0]|18000.0|\n",
      "|   [29.0,4.0]|20000.0|\n",
      "|   [30.0,8.0]|25000.0|\n",
      "|  [31.0,10.0]|30000.0|\n",
      "+-------------+-------+\n",
      "\n"
     ]
    }
   ],
   "source": [
    "test_data.show()"
   ]
  },
  {
   "cell_type": "code",
   "execution_count": 42,
   "id": "197513d4",
   "metadata": {
    "execution": {
     "iopub.execute_input": "2022-05-21T19:14:12.412025Z",
     "iopub.status.busy": "2022-05-21T19:14:12.412025Z",
     "iopub.status.idle": "2022-05-21T19:14:12.728016Z",
     "shell.execute_reply": "2022-05-21T19:14:12.724006Z",
     "shell.execute_reply.started": "2022-05-21T19:14:12.412025Z"
    },
    "tags": []
   },
   "outputs": [],
   "source": [
    "pred_results = regressor.evaluate(test_data)"
   ]
  },
  {
   "cell_type": "code",
   "execution_count": 43,
   "id": "61998773",
   "metadata": {
    "execution": {
     "iopub.execute_input": "2022-05-21T19:14:12.731006Z",
     "iopub.status.busy": "2022-05-21T19:14:12.730004Z",
     "iopub.status.idle": "2022-05-21T19:14:13.024070Z",
     "shell.execute_reply": "2022-05-21T19:14:13.022087Z",
     "shell.execute_reply.started": "2022-05-21T19:14:12.731006Z"
    },
    "tags": []
   },
   "outputs": [
    {
     "name": "stderr",
     "output_type": "stream",
     "text": [
      "D:\\Anaconda3\\envs\\standard\\lib\\site-packages\\pyspark\\sql\\context.py:127: FutureWarning: Deprecated in 3.0.0. Use SparkSession.builder.getOrCreate() instead.\n",
      "  FutureWarning\n"
     ]
    },
    {
     "name": "stdout",
     "output_type": "stream",
     "text": [
      "+-------------+-------+------------------+\n",
      "|input feature| salary|        prediction|\n",
      "+-------------+-------+------------------+\n",
      "|   [23.0,2.0]|18000.0| 17916.66666666666|\n",
      "|   [29.0,4.0]|20000.0|25416.666666666562|\n",
      "|   [30.0,8.0]|25000.0| 31249.99999999987|\n",
      "|  [31.0,10.0]|30000.0|34583.333333333176|\n",
      "+-------------+-------+------------------+\n",
      "\n"
     ]
    }
   ],
   "source": [
    "pred_results.predictions.show()"
   ]
  },
  {
   "cell_type": "code",
   "execution_count": 44,
   "id": "1ef0dffd",
   "metadata": {
    "execution": {
     "iopub.execute_input": "2022-05-21T19:14:13.030070Z",
     "iopub.status.busy": "2022-05-21T19:14:13.029071Z",
     "iopub.status.idle": "2022-05-21T19:14:13.054066Z",
     "shell.execute_reply": "2022-05-21T19:14:13.052079Z",
     "shell.execute_reply.started": "2022-05-21T19:14:13.030070Z"
    },
    "tags": []
   },
   "outputs": [
    {
     "data": {
      "text/plain": [
       "(4083.3333333332366, 22354166.666665614)"
      ]
     },
     "execution_count": 44,
     "metadata": {},
     "output_type": "execute_result"
    }
   ],
   "source": [
    "pred_results.meanAbsoluteError, pred_results.meanSquaredError"
   ]
  },
  {
   "cell_type": "markdown",
   "id": "223f0ae1",
   "metadata": {
    "execution": {
     "iopub.execute_input": "2022-05-21T19:00:15.722403Z",
     "iopub.status.busy": "2022-05-21T19:00:15.715406Z",
     "iopub.status.idle": "2022-05-21T19:00:15.774398Z",
     "shell.execute_reply": "2022-05-21T19:00:15.772395Z",
     "shell.execute_reply.started": "2022-05-21T19:00:15.722403Z"
    }
   },
   "source": [
    "## Handling categorical feature\n",
    "[back to top](#PySpark-Documentation)"
   ]
  },
  {
   "cell_type": "code",
   "execution_count": 45,
   "id": "b3d05af1",
   "metadata": {
    "execution": {
     "iopub.execute_input": "2022-05-21T19:14:13.059065Z",
     "iopub.status.busy": "2022-05-21T19:14:13.057065Z",
     "iopub.status.idle": "2022-05-21T19:14:13.070065Z",
     "shell.execute_reply": "2022-05-21T19:14:13.068065Z",
     "shell.execute_reply.started": "2022-05-21T19:14:13.059065Z"
    },
    "tags": []
   },
   "outputs": [],
   "source": [
    "from pyspark.ml.feature import StringIndexer"
   ]
  },
  {
   "cell_type": "code",
   "execution_count": 46,
   "id": "cb7f1c32",
   "metadata": {
    "execution": {
     "iopub.execute_input": "2022-05-21T19:14:13.074062Z",
     "iopub.status.busy": "2022-05-21T19:14:13.073064Z",
     "iopub.status.idle": "2022-05-21T19:14:13.380440Z",
     "shell.execute_reply": "2022-05-21T19:14:13.379437Z",
     "shell.execute_reply.started": "2022-05-21T19:14:13.074062Z"
    },
    "tags": []
   },
   "outputs": [],
   "source": [
    "sdf = spark.read \\\n",
    "           .option('header', 'true') \\\n",
    "           .csv('../Data/test.csv', inferSchema=True) "
   ]
  },
  {
   "cell_type": "code",
   "execution_count": 47,
   "id": "15499119",
   "metadata": {
    "execution": {
     "iopub.execute_input": "2022-05-21T19:14:13.382439Z",
     "iopub.status.busy": "2022-05-21T19:14:13.381439Z",
     "iopub.status.idle": "2022-05-21T19:14:13.507454Z",
     "shell.execute_reply": "2022-05-21T19:14:13.505431Z",
     "shell.execute_reply.started": "2022-05-21T19:14:13.382439Z"
    },
    "tags": []
   },
   "outputs": [
    {
     "name": "stdout",
     "output_type": "stream",
     "text": [
      "+---------+----+----------+-------+\n",
      "|     name| age|experience| salary|\n",
      "+---------+----+----------+-------+\n",
      "|    Krish|31.0|      10.0|30000.0|\n",
      "|Sudhanshu|30.0|       8.0|25000.0|\n",
      "|    Sunny|29.0|       4.0|20000.0|\n",
      "|     Paul|24.0|       3.0|20000.0|\n",
      "|   Harsha|21.0|       1.0|15000.0|\n",
      "|  Shubham|23.0|       2.0|18000.0|\n",
      "|  Maheesh|null|      null|40000.0|\n",
      "|     null|34.0|      10.0|38000.0|\n",
      "|     null|36.0|      null|   null|\n",
      "+---------+----+----------+-------+\n",
      "\n"
     ]
    }
   ],
   "source": [
    "sdf.show()"
   ]
  },
  {
   "cell_type": "code",
   "execution_count": 48,
   "id": "3602d95f",
   "metadata": {
    "execution": {
     "iopub.execute_input": "2022-05-21T19:14:13.509453Z",
     "iopub.status.busy": "2022-05-21T19:14:13.508454Z",
     "iopub.status.idle": "2022-05-21T19:14:13.537452Z",
     "shell.execute_reply": "2022-05-21T19:14:13.536449Z",
     "shell.execute_reply.started": "2022-05-21T19:14:13.509453Z"
    },
    "tags": []
   },
   "outputs": [],
   "source": [
    "sdf = sdf.na.drop(how='any')"
   ]
  },
  {
   "cell_type": "code",
   "execution_count": 49,
   "id": "5a9fb3ba",
   "metadata": {
    "execution": {
     "iopub.execute_input": "2022-05-21T19:14:13.543449Z",
     "iopub.status.busy": "2022-05-21T19:14:13.541449Z",
     "iopub.status.idle": "2022-05-21T19:14:13.584443Z",
     "shell.execute_reply": "2022-05-21T19:14:13.583443Z",
     "shell.execute_reply.started": "2022-05-21T19:14:13.543449Z"
    },
    "tags": []
   },
   "outputs": [],
   "source": [
    "indexer = StringIndexer(inputCol='name', outputCol='name_indexed')"
   ]
  },
  {
   "cell_type": "code",
   "execution_count": 50,
   "id": "533b4f0d",
   "metadata": {
    "execution": {
     "iopub.execute_input": "2022-05-21T19:14:13.587441Z",
     "iopub.status.busy": "2022-05-21T19:14:13.586442Z",
     "iopub.status.idle": "2022-05-21T19:14:14.693840Z",
     "shell.execute_reply": "2022-05-21T19:14:14.691843Z",
     "shell.execute_reply.started": "2022-05-21T19:14:13.587441Z"
    },
    "tags": []
   },
   "outputs": [
    {
     "name": "stdout",
     "output_type": "stream",
     "text": [
      "+---------+----+----------+-------+------------+\n",
      "|     name| age|experience| salary|name_indexed|\n",
      "+---------+----+----------+-------+------------+\n",
      "|    Krish|31.0|      10.0|30000.0|         1.0|\n",
      "|Sudhanshu|30.0|       8.0|25000.0|         4.0|\n",
      "|    Sunny|29.0|       4.0|20000.0|         5.0|\n",
      "|     Paul|24.0|       3.0|20000.0|         2.0|\n",
      "|   Harsha|21.0|       1.0|15000.0|         0.0|\n",
      "|  Shubham|23.0|       2.0|18000.0|         3.0|\n",
      "+---------+----+----------+-------+------------+\n",
      "\n"
     ]
    }
   ],
   "source": [
    "sdf = indexer.fit(sdf).transform(sdf)\n",
    "sdf.show()"
   ]
  }
 ],
 "metadata": {
  "kernelspec": {
   "display_name": "Python 3",
   "language": "python",
   "name": "python3"
  },
  "language_info": {
   "codemirror_mode": {
    "name": "ipython",
    "version": 3
   },
   "file_extension": ".py",
   "mimetype": "text/x-python",
   "name": "python",
   "nbconvert_exporter": "python",
   "pygments_lexer": "ipython3",
   "version": "3.7.9"
  }
 },
 "nbformat": 4,
 "nbformat_minor": 5
}
